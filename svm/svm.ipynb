{
 "cells": [
  {
   "cell_type": "code",
   "execution_count": 22,
   "id": "707d8901-4784-459d-9eec-af8d0dc11136",
   "metadata": {},
   "outputs": [],
   "source": [
    "# Bibliotecas de PySpark\n",
    "from pyspark.sql import SparkSession\n",
    "from pyspark.sql.functions import monotonically_increasing_id\n",
    "from pyspark.ml.classification import LinearSVC\n",
    "from pyspark.ml.feature import VectorAssembler\n",
    "from pyspark.ml import Pipeline\n",
    "from pyspark.ml.feature import StringIndexer\n",
    "from pyspark.ml.classification import OneVsRest\n",
    "from pyspark.ml.evaluation import MulticlassClassificationEvaluator\n",
    "from pyspark.mllib.evaluation import MulticlassMetrics"
   ]
  },
  {
   "cell_type": "code",
   "execution_count": 2,
   "id": "d180a3bc-26cb-49be-98d6-32ae52a2da4b",
   "metadata": {},
   "outputs": [
    {
     "name": "stderr",
     "output_type": "stream",
     "text": [
      "23/10/03 23:04:43 WARN SparkSession: Using an existing Spark session; only runtime SQL configurations will take effect.\n"
     ]
    }
   ],
   "source": [
    "# Initialize Spark\n",
    "spark = SparkSession.builder.appName(\"SVM\").getOrCreate()"
   ]
  },
  {
   "cell_type": "code",
   "execution_count": 3,
   "id": "e79d892a-a22a-420d-9da2-40d4a68df0a4",
   "metadata": {},
   "outputs": [
    {
     "name": "stderr",
     "output_type": "stream",
     "text": [
      "23/10/03 23:04:59 WARN package: Truncated the string representation of a plan since it was too large. This behavior can be adjusted by setting 'spark.sql.debug.maxToStringFields'.\n",
      "[Stage 4:>                                                          (0 + 1) / 1]\r"
     ]
    },
    {
     "name": "stdout",
     "output_type": "stream",
     "text": [
      "+-------+------+----------------+----------------+----------------+----------------+------------------+------------------+-----------------+-----------------+------------------+-----------------+------------------+------------------+------------------+-----------------+------------------+------------------+\n",
      "|summary|letter|            xbox|            ybox|           width|          height|             onpix|              xbar|             ybar|            x2bar|             y2bar|            xybar|            x2ybar|            xy2bar|             xedge|           xedgey|             yedge|            yedgex|\n",
      "+-------+------+----------------+----------------+----------------+----------------+------------------+------------------+-----------------+-----------------+------------------+-----------------+------------------+------------------+------------------+-----------------+------------------+------------------+\n",
      "|  count| 20000|           20000|           20000|           20000|           20000|             20000|             20000|            20000|            20000|             20000|            20000|             20000|             20000|             20000|            20000|             20000|             20000|\n",
      "|   mean|  null|         4.02355|          7.0355|         5.12185|         5.37245|           3.50585|            6.8976|          7.50045|           4.6286|           5.17865|          8.28205|             6.454|             7.929|            3.0461|          8.33885|           3.69175|            7.8012|\n",
      "| stddev|  null|1.91321154513054|3.30455530356018|2.01457328056717|2.26139043330306|2.1904578705796056|2.0260354096051802|2.325353771151404|2.699967875980483|2.3808228815642036|2.488474919076174|2.6310701485339196|2.0806190061547594|2.3325408522341915|1.546722436319703|2.5670725409640243|1.6174700524178265|\n",
      "|    min|     A|               0|               0|               0|               0|                 0|                 0|                0|                0|                 0|                0|                 0|                 0|                 0|                0|                 0|                 0|\n",
      "|    max|     Z|              15|              15|              15|              15|                15|                15|               15|               15|                15|               15|                15|                15|                15|               15|                15|                15|\n",
      "+-------+------+----------------+----------------+----------------+----------------+------------------+------------------+-----------------+-----------------+------------------+-----------------+------------------+------------------+------------------+-----------------+------------------+------------------+\n",
      "\n"
     ]
    },
    {
     "name": "stderr",
     "output_type": "stream",
     "text": [
      "                                                                                \r"
     ]
    }
   ],
   "source": [
    "file_path = \"./letter-recognition.csv\"\n",
    "df = spark.read.csv(file_path, header=True, inferSchema=True)\n",
    "df.describe().show()"
   ]
  },
  {
   "cell_type": "code",
   "execution_count": 4,
   "id": "fb8fdb20-27d0-4df1-bd1b-9094ee8486eb",
   "metadata": {},
   "outputs": [
    {
     "name": "stdout",
     "output_type": "stream",
     "text": [
      "root\n",
      " |-- letter: string (nullable = true)\n",
      " |-- xbox: integer (nullable = true)\n",
      " |-- ybox: integer (nullable = true)\n",
      " |-- width: integer (nullable = true)\n",
      " |-- height: integer (nullable = true)\n",
      " |-- onpix: integer (nullable = true)\n",
      " |-- xbar: integer (nullable = true)\n",
      " |-- ybar: integer (nullable = true)\n",
      " |-- x2bar: integer (nullable = true)\n",
      " |-- y2bar: integer (nullable = true)\n",
      " |-- xybar: integer (nullable = true)\n",
      " |-- x2ybar: integer (nullable = true)\n",
      " |-- xy2bar: integer (nullable = true)\n",
      " |-- xedge: integer (nullable = true)\n",
      " |-- xedgey: integer (nullable = true)\n",
      " |-- yedge: integer (nullable = true)\n",
      " |-- yedgex: integer (nullable = true)\n",
      "\n"
     ]
    }
   ],
   "source": [
    "df.printSchema()"
   ]
  },
  {
   "cell_type": "code",
   "execution_count": 5,
   "id": "8856d0ac-d057-4ba9-8192-2ab8dbb7a517",
   "metadata": {},
   "outputs": [
    {
     "name": "stdout",
     "output_type": "stream",
     "text": [
      "+------+----+----+-----+------+-----+----+----+-----+-----+-----+------+------+-----+------+-----+------+\n",
      "|letter|xbox|ybox|width|height|onpix|xbar|ybar|x2bar|y2bar|xybar|x2ybar|xy2bar|xedge|xedgey|yedge|yedgex|\n",
      "+------+----+----+-----+------+-----+----+----+-----+-----+-----+------+------+-----+------+-----+------+\n",
      "|     T|   2|   8|    3|     5|    1|   8|  13|    0|    6|    6|    10|     8|    0|     8|    0|     8|\n",
      "|     I|   5|  12|    3|     7|    2|  10|   5|    5|    4|   13|     3|     9|    2|     8|    4|    10|\n",
      "|     D|   4|  11|    6|     8|    6|  10|   6|    2|    6|   10|     3|     7|    3|     7|    3|     9|\n",
      "|     N|   7|  11|    6|     6|    3|   5|   9|    4|    6|    4|     4|    10|    6|    10|    2|     8|\n",
      "|     G|   2|   1|    3|     1|    1|   8|   6|    6|    6|    6|     5|     9|    1|     7|    5|    10|\n",
      "|     S|   4|  11|    5|     8|    3|   8|   8|    6|    9|    5|     6|     6|    0|     8|    9|     7|\n",
      "|     B|   4|   2|    5|     4|    4|   8|   7|    6|    6|    7|     6|     6|    2|     8|    7|    10|\n",
      "|     A|   1|   1|    3|     2|    1|   8|   2|    2|    2|    8|     2|     8|    1|     6|    2|     7|\n",
      "|     J|   2|   2|    4|     4|    2|  10|   6|    2|    6|   12|     4|     8|    1|     6|    1|     7|\n",
      "|     M|  11|  15|   13|     9|    7|  13|   2|    6|    2|   12|     1|     9|    8|     1|    1|     8|\n",
      "|     X|   3|   9|    5|     7|    4|   8|   7|    3|    8|    5|     6|     8|    2|     8|    6|     7|\n",
      "|     O|   6|  13|    4|     7|    4|   6|   7|    6|    3|   10|     7|     9|    5|     9|    5|     8|\n",
      "|     G|   4|   9|    6|     7|    6|   7|   8|    6|    2|    6|     5|    11|    4|     8|    7|     8|\n",
      "|     M|   6|   9|    8|     6|    9|   7|   8|    6|    5|    7|     5|     8|    8|     9|    8|     6|\n",
      "|     R|   5|   9|    5|     7|    6|   6|  11|    7|    3|    7|     3|     9|    2|     7|    5|    11|\n",
      "|     F|   6|   9|    5|     4|    3|  10|   6|    3|    5|   10|     5|     7|    3|     9|    6|     9|\n",
      "|     O|   3|   4|    4|     3|    2|   8|   7|    7|    5|    7|     6|     8|    2|     8|    3|     8|\n",
      "|     C|   7|  10|    5|     5|    2|   6|   8|    6|    8|   11|     7|    11|    2|     8|    5|     9|\n",
      "|     T|   6|  11|    6|     8|    5|   6|  11|    5|    6|   11|     9|     4|    3|    12|    2|     4|\n",
      "|     J|   2|   2|    3|     3|    1|  10|   6|    3|    6|   12|     4|     9|    0|     7|    1|     7|\n",
      "+------+----+----+-----+------+-----+----+----+-----+-----+-----+------+------+-----+------+-----+------+\n",
      "only showing top 20 rows\n",
      "\n"
     ]
    }
   ],
   "source": [
    "df.show()"
   ]
  },
  {
   "cell_type": "code",
   "execution_count": 6,
   "id": "954c8533-b154-47a6-8013-5752171e48c7",
   "metadata": {},
   "outputs": [],
   "source": [
    "# Agrega una columna con un identificador único a df\n",
    "df = df.withColumn(\"row_id\", monotonically_increasing_id())\n",
    "\n",
    "# Define los índices para la división\n",
    "start_train = 0\n",
    "end_train = 16000\n",
    "end_test = 20000\n",
    "\n",
    "# Filtra las filas para obtener los conjuntos de entrenamiento y prueba\n",
    "letters_train = df.filter((df[\"row_id\"] >= start_train) & (df[\"row_id\"] <= end_train - 1))\n",
    "letters_test = df.filter((df[\"row_id\"] >= end_train) & (df[\"row_id\"] <= end_test))\n",
    "\n",
    "# Elimina la columna de identificación row_id\n",
    "letters_train = letters_train.drop(\"row_id\")\n",
    "letters_test = letters_test.drop(\"row_id\")"
   ]
  },
  {
   "cell_type": "code",
   "execution_count": 7,
   "id": "c517284c-4be6-456e-93ee-23a308910939",
   "metadata": {},
   "outputs": [
    {
     "data": {
      "text/plain": [
       "16000"
      ]
     },
     "execution_count": 7,
     "metadata": {},
     "output_type": "execute_result"
    }
   ],
   "source": [
    "letters_train.count()"
   ]
  },
  {
   "cell_type": "code",
   "execution_count": 8,
   "id": "848288f0-c184-4cb8-9aa6-bc074d70deed",
   "metadata": {},
   "outputs": [
    {
     "data": {
      "text/plain": [
       "4000"
      ]
     },
     "execution_count": 8,
     "metadata": {},
     "output_type": "execute_result"
    }
   ],
   "source": [
    "letters_test.count()"
   ]
  },
  {
   "cell_type": "code",
   "execution_count": 9,
   "id": "37e6b944-7e88-4b59-897d-f6527c567e8d",
   "metadata": {},
   "outputs": [
    {
     "name": "stderr",
     "output_type": "stream",
     "text": [
      "                                                                                \r"
     ]
    }
   ],
   "source": [
    "# Crea un StringIndexer para convertir las etiquetas de letras en valores numéricos\n",
    "indexer = StringIndexer(inputCol=\"letter\", outputCol=\"label\")\n",
    "\n",
    "# Ajusta el StringIndexer al DataFrame\n",
    "indexer_model = indexer.fit(letters_train)\n",
    "\n",
    "# Transforma el DataFrame original para agregar la columna de etiquetas numéricas\n",
    "letters_train = indexer_model.transform(letters_train)\n",
    "letters_test = indexer_model.transform(letters_test)"
   ]
  },
  {
   "cell_type": "code",
   "execution_count": 10,
   "id": "c393f32f-321b-412f-b6dd-3df1e4455685",
   "metadata": {},
   "outputs": [
    {
     "name": "stderr",
     "output_type": "stream",
     "text": [
      "23/10/03 23:05:25 WARN InstanceBuilder: Failed to load implementation from:dev.ludovic.netlib.blas.JNIBLAS\n",
      "                                                                                \r"
     ]
    }
   ],
   "source": [
    "# Define un ensamblador de características para agrupar las columnas óptimas en un solo vector\n",
    "assembler = VectorAssembler(inputCols=[\"xbox\", \"ybox\", \"onpix\", \"xbar\", \"ybar\", \"x2bar\", \"y2bar\", \"xybar\", \"x2ybar\", \"xy2bar\", \"xedge\", \"xedgey\", \"yedge\", \"yedgex\"], outputCol=\"features\")\n",
    "# Define el modelo SVM\n",
    "svm = LinearSVC(maxIter=10, regParam=0.1, featuresCol=\"features\", labelCol=\"label\")\n",
    "\n",
    "# Define el modelo OneVsRest con SVM binario\n",
    "ovr = OneVsRest(classifier=svm, labelCol=\"label\")\n",
    "\n",
    "# Aplica el ensamblador y ajusta el modelo al DataFrame de entrenamiento\n",
    "pipeline = Pipeline(stages=[assembler, ovr])\n",
    "model = pipeline.fit(letters_train)\n"
   ]
  },
  {
   "cell_type": "code",
   "execution_count": 11,
   "id": "4a0a6888-d1da-4cbe-964b-569c90e82538",
   "metadata": {},
   "outputs": [
    {
     "name": "stdout",
     "output_type": "stream",
     "text": [
      "+------+----+----+-----+------+-----+----+----+-----+-----+-----+------+------+-----+------+-----+------+-----+\n",
      "|letter|xbox|ybox|width|height|onpix|xbar|ybar|x2bar|y2bar|xybar|x2ybar|xy2bar|xedge|xedgey|yedge|yedgex|label|\n",
      "+------+----+----+-----+------+-----+----+----+-----+-----+-----+------+------+-----+------+-----+------+-----+\n",
      "|     T|   2|   8|    3|     5|    1|   8|  13|    0|    6|    6|    10|     8|    0|     8|    0|     8|  1.0|\n",
      "|     I|   5|  12|    3|     7|    2|  10|   5|    5|    4|   13|     3|     9|    2|     8|    4|    10| 22.0|\n",
      "|     D|   4|  11|    6|     8|    6|  10|   6|    2|    6|   10|     3|     7|    3|     7|    3|     9|  4.0|\n",
      "|     N|   7|  11|    6|     6|    3|   5|   9|    4|    6|    4|     4|    10|    6|    10|    2|     8| 11.0|\n",
      "|     G|   2|   1|    3|     1|    1|   8|   6|    6|    6|    6|     5|     9|    1|     7|    5|    10| 16.0|\n",
      "|     S|   4|  11|    5|     8|    3|   8|   8|    6|    9|    5|     6|     6|    0|     8|    9|     7| 23.0|\n",
      "|     B|   4|   2|    5|     4|    4|   8|   7|    6|    6|    7|     6|     6|    2|     8|    7|    10|  7.0|\n",
      "|     A|   1|   1|    3|     2|    1|   8|   2|    2|    2|    8|     2|     8|    1|     6|    2|     7|  6.0|\n",
      "|     J|   2|   2|    4|     4|    2|  10|   6|    2|    6|   12|     4|     8|    1|     6|    1|     7| 18.0|\n",
      "|     M|  11|  15|   13|     9|    7|  13|   2|    6|    2|   12|     1|     9|    8|     1|    1|     8|  0.0|\n",
      "|     X|   3|   9|    5|     7|    4|   8|   7|    3|    8|    5|     6|     8|    2|     8|    6|     7|  9.0|\n",
      "|     O|   6|  13|    4|     7|    4|   6|   7|    6|    3|   10|     7|     9|    5|     9|    5|     8| 14.0|\n",
      "|     G|   4|   9|    6|     7|    6|   7|   8|    6|    2|    6|     5|    11|    4|     8|    7|     8| 16.0|\n",
      "|     M|   6|   9|    8|     6|    9|   7|   8|    6|    5|    7|     5|     8|    8|     9|    8|     6|  0.0|\n",
      "|     R|   5|   9|    5|     7|    6|   6|  11|    7|    3|    7|     3|     9|    2|     7|    5|    11| 19.0|\n",
      "|     F|   6|   9|    5|     4|    3|  10|   6|    3|    5|   10|     5|     7|    3|     9|    6|     9| 10.0|\n",
      "|     O|   3|   4|    4|     3|    2|   8|   7|    7|    5|    7|     6|     8|    2|     8|    3|     8| 14.0|\n",
      "|     C|   7|  10|    5|     5|    2|   6|   8|    6|    8|   11|     7|    11|    2|     8|    5|     9| 20.0|\n",
      "|     T|   6|  11|    6|     8|    5|   6|  11|    5|    6|   11|     9|     4|    3|    12|    2|     4|  1.0|\n",
      "|     J|   2|   2|    3|     3|    1|  10|   6|    3|    6|   12|     4|     9|    0|     7|    1|     7| 18.0|\n",
      "+------+----+----+-----+------+-----+----+----+-----+-----+-----+------+------+-----+------+-----+------+-----+\n",
      "only showing top 20 rows\n",
      "\n"
     ]
    }
   ],
   "source": [
    "letters_train.show()"
   ]
  },
  {
   "cell_type": "code",
   "execution_count": 12,
   "id": "4cb2be9e-d36c-4bef-93d6-e285de947006",
   "metadata": {},
   "outputs": [
    {
     "name": "stderr",
     "output_type": "stream",
     "text": [
      "[Stage 838:>                                                        (0 + 1) / 1]\r"
     ]
    },
    {
     "name": "stdout",
     "output_type": "stream",
     "text": [
      "Accuracy del modelo multiclase: 0.6015\n"
     ]
    },
    {
     "name": "stderr",
     "output_type": "stream",
     "text": [
      "                                                                                \r"
     ]
    }
   ],
   "source": [
    "# Realiza predicciones en el conjunto de prueba\n",
    "predictions = model.transform(letters_test)\n",
    "\n",
    "# Calcula el accuracy para cada modelo binario\n",
    "\n",
    "evaluator = MulticlassClassificationEvaluator(\n",
    "    labelCol=\"label\",\n",
    "    predictionCol=\"prediction\",\n",
    "    metricName=\"accuracy\"\n",
    ")\n",
    "\n",
    "accuracy = evaluator.evaluate(predictions)\n",
    "\n",
    "print(\"Accuracy del modelo multiclase:\", accuracy)\n"
   ]
  },
  {
   "cell_type": "code",
   "execution_count": 14,
   "id": "06a56dc2-adae-4884-add3-a203b5ca94a9",
   "metadata": {},
   "outputs": [
    {
     "name": "stderr",
     "output_type": "stream",
     "text": [
      "[Stage 923:>                                                        (0 + 1) / 1]\r"
     ]
    },
    {
     "name": "stdout",
     "output_type": "stream",
     "text": [
      "Matriz de confusión global:\n",
      "DenseMatrix([[127.,   2.,  12.,   2.,   5.,   0.,   4.,   3.,   0.,   0.,   0.,\n",
      "               24.,   0.,   2.,   1.,   6.,   2.,   0.,   1.,   5.,   2.,   4.,\n",
      "                1.,   0.,   8.,   0.],\n",
      "             [  0., 120.,   0.,  17.,   0.,   0.,   0.,   0.,   5.,   2.,  17.,\n",
      "                1.,   1.,   0.,   0.,   0.,   0.,   0.,   0.,   0.,   1.,   0.,\n",
      "                2.,   2.,   0.,   2.],\n",
      "             [  0.,   2., 120.,   5.,   0.,   0.,   3.,   0.,   0.,   9.,   0.,\n",
      "                0.,   1.,   0.,   3.,   0.,   0.,   0.,   1.,   0.,   0.,   4.,\n",
      "                0.,   0.,   6.,   0.],\n",
      "             [  0.,   0.,   0.,  72.,   0.,   7.,   2.,   0.,   1.,   0.,   2.,\n",
      "                0.,   0.,   1.,   0.,   0.,   0.,   3.,   0.,   0.,   0.,   0.,\n",
      "                0.,   6.,   0.,   0.],\n",
      "             [  0.,   0.,   1.,   0., 141.,   6.,   0.,  27.,   0.,   4.,   8.,\n",
      "                3.,   0.,   2.,  13.,   0.,   0.,   0.,   3.,   9.,   0.,   0.,\n",
      "                4.,   1.,  13.,   0.],\n",
      "             [  0.,   4.,   0.,   1.,   1., 133.,   0.,   1.,   4.,   1.,  44.,\n",
      "                2.,   0.,   3.,   3.,   0.,   3.,   0.,   7.,   0.,   0.,   0.,\n",
      "                6.,   3.,   3.,   1.],\n",
      "             [  1.,   0.,   0.,   0.,   0.,   1., 131.,   0.,   0.,   0.,   0.,\n",
      "                1.,   0.,   7.,   3.,   0.,   4.,   5.,   4.,   1.,   0.,   3.,\n",
      "                0.,  13.,   4.,   4.],\n",
      "             [  1.,   0.,   0.,   0.,   0.,   5.,   0.,  60.,   1.,   0.,   0.,\n",
      "                0.,   2.,   8.,   0.,   0.,   5.,   5.,   0.,   8.,   0.,   0.,\n",
      "                1.,   3.,   0.,   0.],\n",
      "             [  0.,   0.,   0.,  35.,   0.,   0.,   0.,   0.,  83.,   0.,   0.,\n",
      "                1.,   0.,   0.,   0.,   0.,   0.,   0.,   0.,   0.,   0.,   0.,\n",
      "                0.,   0.,   1.,   0.],\n",
      "             [  0.,   7.,   7.,   2.,   9.,   2.,   4.,  11.,   2.,  99.,   7.,\n",
      "               10.,   5.,   4.,   0.,   3.,   2.,  14.,   6.,  15.,   3.,  21.,\n",
      "               10.,   9.,  19.,   1.],\n",
      "             [  0.,   1.,   0.,   1.,   0.,   2.,   0.,   2.,   1.,   1.,  60.,\n",
      "                1.,   2.,   0.,   0.,   0.,   1.,   0.,   1.,   0.,   0.,   2.,\n",
      "                1.,   3.,  10.,   3.],\n",
      "             [  0.,   0.,   0.,   0.,   0.,   0.,   0.,   0.,   0.,   0.,   0.,\n",
      "               84.,   0.,   0.,   0.,   0.,   0.,   0.,   0.,   0.,   0.,   0.,\n",
      "                0.,   0.,  10.,   0.],\n",
      "             [  0.,   1.,   0.,   0.,   0.,   1.,   0.,   0.,   0.,   5.,   2.,\n",
      "                0.,  68.,   1.,   0.,   0.,   3.,   5.,   0.,   0.,  10.,  13.,\n",
      "                2.,   8.,   0.,   1.],\n",
      "             [  0.,   0.,   3.,   5.,   0.,   0.,   0.,   0.,   0.,   0.,   0.,\n",
      "                0.,   3.,  81.,   1.,   0.,  14.,   0.,   0.,   0.,   1.,   0.,\n",
      "                0.,   1.,   0.,   0.],\n",
      "             [  1.,   7.,  14.,   4.,   8.,   5.,   7.,  10.,   3.,  14.,   2.,\n",
      "                7.,  18.,  26.,  66.,   0.,  25.,   2.,   5.,   3.,   4.,   4.,\n",
      "                3.,  13.,  18.,   1.],\n",
      "             [  9.,   0.,   2.,   0.,   0.,   5.,   1.,   0.,  34.,   0.,   5.,\n",
      "               20.,   0.,   3.,   4., 127.,   3.,   0.,   0.,   0.,   3.,   1.,\n",
      "                0.,   0.,   0.,   0.],\n",
      "             [  0.,   0.,   0.,   0.,   0.,   0.,   0.,   0.,   0.,   0.,   0.,\n",
      "                0.,   2.,   5.,   0.,   0.,   9.,   0.,   0.,   0.,   0.,   0.,\n",
      "                0.,   3.,   0.,   0.],\n",
      "             [  1.,   0.,   1.,   0.,   0.,   0.,   2.,   0.,   0.,   0.,   0.,\n",
      "                0.,   0.,   3.,   1.,   0.,   3., 116.,   0.,   0.,   1.,   0.,\n",
      "                9.,   4.,   0.,   0.],\n",
      "             [  0.,   0.,   0.,   0.,   2.,   0.,   0.,   0.,   0.,   0.,   0.,\n",
      "                2.,   0.,   0.,   4.,   0.,   0.,   3., 114.,   0.,   0.,   0.,\n",
      "               29.,   6.,   0.,   0.],\n",
      "             [  2.,   0.,   0.,   0.,   0.,   0.,   0.,   8.,   1.,   2.,   1.,\n",
      "                2.,   5.,   1.,   0.,   0.,  20.,   2.,   1., 118.,   0.,  24.,\n",
      "                0.,   4.,   7.,   0.],\n",
      "             [  0.,   0.,   3.,   0.,   0.,   0.,   0.,   0.,   0.,   0.,   0.,\n",
      "                2.,   2.,   0.,   3.,   0.,  58.,   1.,   0.,   0., 110.,  10.,\n",
      "                0.,   3.,   1.,   2.],\n",
      "             [  0.,   0.,   2.,   0.,   0.,   1.,   0.,   2.,   0.,   0.,   1.,\n",
      "                1.,  10.,   0.,   0.,   0.,   7.,   1.,   0.,   1.,   7.,  60.,\n",
      "                0.,   0.,   3.,   0.],\n",
      "             [  0.,   0.,   0.,   0.,   1.,   0.,   0.,   6.,   0.,   0.,   1.,\n",
      "                0.,   4.,   0.,   0.,   0.,   0.,   0.,   1.,   0.,   0.,   0.,\n",
      "               93.,   5.,   0.,   0.],\n",
      "             [  0.,   0.,   0.,   0.,   0.,   0.,   2.,   5.,   0.,   0.,   0.,\n",
      "                0.,   1.,   5.,   0.,   0.,   3.,   0.,   3.,   0.,   0.,   0.,\n",
      "                3.,  40.,   0.,  17.],\n",
      "             [  2.,   1.,   3.,   1.,   0.,   0.,   0.,   0.,   1.,   0.,   3.,\n",
      "                5.,   0.,  10.,  37.,   3.,   2.,   0.,   0.,   1.,   0.,   0.,\n",
      "                0.,   0.,  48.,   0.],\n",
      "             [  0.,   6.,   0.,   0.,   0.,   0.,   0.,   1.,   0.,  22.,   0.,\n",
      "                0.,  28.,   6.,   0.,   0.,   0.,   0.,   1.,   0.,   0.,   0.,\n",
      "                1.,  34.,   0., 126.]])\n"
     ]
    },
    {
     "name": "stderr",
     "output_type": "stream",
     "text": [
      "                                                                                \r"
     ]
    }
   ],
   "source": [
    "# Extrae las etiquetas verdaderas y las predicciones\n",
    "labelsAndPredictions = predictions.select(\"label\", \"prediction\")\n",
    "\n",
    "# Crea un objeto de evaluación multiclase\n",
    "metrics = MulticlassMetrics(labelsAndPredictions.rdd.map(tuple))\n",
    "\n",
    "# Obtiene la matriz de confusión global\n",
    "confusion_matrix = metrics.confusionMatrix()\n",
    "\n",
    "print(\"Matriz de confusión global:\")\n",
    "print(confusion_matrix)"
   ]
  },
  {
   "cell_type": "code",
   "execution_count": null,
   "id": "b7532d32-dc96-4fed-b632-2bf2c1fbf1c3",
   "metadata": {},
   "outputs": [],
   "source": []
  }
 ],
 "metadata": {
  "kernelspec": {
   "display_name": "Python 3 (ipykernel)",
   "language": "python",
   "name": "python3"
  },
  "language_info": {
   "codemirror_mode": {
    "name": "ipython",
    "version": 3
   },
   "file_extension": ".py",
   "mimetype": "text/x-python",
   "name": "python",
   "nbconvert_exporter": "python",
   "pygments_lexer": "ipython3",
   "version": "3.10.7"
  }
 },
 "nbformat": 4,
 "nbformat_minor": 5
}
