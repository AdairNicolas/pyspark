{
 "cells": [
  {
   "cell_type": "code",
   "execution_count": 1,
   "id": "b89eeb0e-2f9d-4362-98c5-0747a40564a7",
   "metadata": {},
   "outputs": [],
   "source": [
    "from pyspark.sql import SparkSession\n",
    "from pyspark.sql.functions import col, when, udf, lit, pandas_udf\n",
    "from pyspark.ml.feature import MinMaxScaler, VectorAssembler\n",
    "from pyspark.sql.types import ArrayType, DoubleType\n",
    "from scipy.spatial import distance\n",
    "import numpy as np\n",
    "import pandas as pd\n",
    "import random"
   ]
  },
  {
   "cell_type": "code",
   "execution_count": 2,
   "id": "96406dc2-af05-4e49-9458-a20677f15bdc",
   "metadata": {},
   "outputs": [],
   "source": [
    "spark = SparkSession.builder.getOrCreate ()"
   ]
  },
  {
   "cell_type": "code",
   "execution_count": 3,
   "id": "c9148a27-e59f-4bfb-9975-1c8a35a0111e",
   "metadata": {},
   "outputs": [
    {
     "name": "stderr",
     "output_type": "stream",
     "text": [
      "23/09/10 13:08:19 WARN package: Truncated the string representation of a plan since it was too large. This behavior can be adjusted by setting 'spark.sql.debug.maxToStringFields'.\n",
      "                                                                                \r"
     ]
    },
    {
     "data": {
      "text/plain": [
       "Row(id=842302, diagnosis='M', radius_mean=17.99, texture_mean=10.38, perimeter_mean=122.8, area_mean=1001.0, smoothness_mean=0.1184, compactness_mean=0.2776, concavity_mean=0.3001, concave points_mean=0.1471, symmetry_mean=0.2419, fractal_dimension_mean=0.07871, radius_se=1.095, texture_se=0.9053, perimeter_se=8.589, area_se=153.4, smoothness_se=0.006399, compactness_se=0.04904, concavity_se=0.05373, concave points_se=0.01587, symmetry_se=0.03003, fractal_dimension_se=0.006193, radius_worst=25.38, texture_worst=17.33, perimeter_worst=184.6, area_worst=2019.0, smoothness_worst=0.1622, compactness_worst=0.6656, concavity_worst=0.7119, concave points_worst=0.2654, symmetry_worst=0.4601, fractal_dimension_worst=0.1189)"
      ]
     },
     "execution_count": 3,
     "metadata": {},
     "output_type": "execute_result"
    }
   ],
   "source": [
    "datos = spark.read.csv('./breast_cancer/wisc_bc_data.csv', inferSchema=True, header=True)\n",
    "datos.collect()[0]"
   ]
  },
  {
   "cell_type": "code",
   "execution_count": 4,
   "id": "0572662b-fbf1-42d7-91d1-b38cbac38667",
   "metadata": {},
   "outputs": [],
   "source": [
    "datos = datos.drop('id')"
   ]
  },
  {
   "cell_type": "code",
   "execution_count": 5,
   "id": "cb3c7190-19fa-4b00-b835-c8676f5bd255",
   "metadata": {},
   "outputs": [],
   "source": [
    "value_mapping = {\n",
    "    \"M\" : \"Malignant\",\n",
    "    \"B\" : \"Benign\"\n",
    "}\n",
    "# Renombrar los valores en la misma columna \"diagnosis\"\n",
    "for old_value, new_value in value_mapping.items():\n",
    "    datos = datos.withColumn(\"diagnosis\", when(datos[\"diagnosis\"] == old_value, new_value).otherwise(datos[\"diagnosis\"]))"
   ]
  },
  {
   "cell_type": "code",
   "execution_count": 6,
   "id": "ce3a492d-c557-46a1-966a-99af4f8b3740",
   "metadata": {},
   "outputs": [
    {
     "name": "stdout",
     "output_type": "stream",
     "text": [
      "+---------+\n",
      "|diagnosis|\n",
      "+---------+\n",
      "|Malignant|\n",
      "|Malignant|\n",
      "|Malignant|\n",
      "|Malignant|\n",
      "|Malignant|\n",
      "|Malignant|\n",
      "|Malignant|\n",
      "|Malignant|\n",
      "|Malignant|\n",
      "|Malignant|\n",
      "|Malignant|\n",
      "|Malignant|\n",
      "|Malignant|\n",
      "|Malignant|\n",
      "|Malignant|\n",
      "|Malignant|\n",
      "|Malignant|\n",
      "|Malignant|\n",
      "|Malignant|\n",
      "|   Benign|\n",
      "+---------+\n",
      "only showing top 20 rows\n",
      "\n"
     ]
    }
   ],
   "source": [
    "column_diagnosis = datos.select(\"diagnosis\")\n",
    "column_diagnosis.show()"
   ]
  },
  {
   "cell_type": "code",
   "execution_count": 7,
   "id": "f8d95ee2-ff74-40b8-b631-a7e571c0d987",
   "metadata": {},
   "outputs": [
    {
     "name": "stdout",
     "output_type": "stream",
     "text": [
      "+---------+-----+------------------+\n",
      "|diagnosis|count|        percentage|\n",
      "+---------+-----+------------------+\n",
      "|   Benign|  357|62.741652021089635|\n",
      "|Malignant|  212|37.258347978910365|\n",
      "+---------+-----+------------------+\n",
      "\n"
     ]
    }
   ],
   "source": [
    "# Contar el número total de datos en el DataFrame\n",
    "total_count = datos.count()\n",
    "\n",
    "# Calcular el número de datos para cada categoría\n",
    "category_counts = datos.groupBy(\"diagnosis\").count()\n",
    "\n",
    "# Calcular el porcentaje para cada categoría\n",
    "category_percentages = category_counts.withColumn(\"percentage\",\n",
    "    (category_counts[\"count\"] / total_count) * 100\n",
    ")\n",
    "\n",
    "# Mostrar el DataFrame resultante\n",
    "category_percentages.show()"
   ]
  },
  {
   "cell_type": "code",
   "execution_count": 8,
   "id": "67bda34f-23ad-4daa-8f35-bc5037b228b7",
   "metadata": {},
   "outputs": [
    {
     "name": "stdout",
     "output_type": "stream",
     "text": [
      "+-------+------------------+\n",
      "|summary|       radius_mean|\n",
      "+-------+------------------+\n",
      "|  count|               569|\n",
      "|   mean|14.127291739894563|\n",
      "| stddev|3.5240488262120793|\n",
      "|    min|             6.981|\n",
      "|    max|             28.11|\n",
      "+-------+------------------+\n",
      "\n",
      "+-------+-----------------+\n",
      "|summary|        area_mean|\n",
      "+-------+-----------------+\n",
      "|  count|              569|\n",
      "|   mean|654.8891036906857|\n",
      "| stddev|351.9141291816529|\n",
      "|    min|            143.5|\n",
      "|    max|           2501.0|\n",
      "+-------+-----------------+\n",
      "\n",
      "+-------+--------------------+\n",
      "|summary|     smoothness_mean|\n",
      "+-------+--------------------+\n",
      "|  count|                 569|\n",
      "|   mean|   0.096360281195079|\n",
      "| stddev|0.014064128137673616|\n",
      "|    min|             0.05263|\n",
      "|    max|              0.1634|\n",
      "+-------+--------------------+\n",
      "\n"
     ]
    }
   ],
   "source": [
    "#Seleccionamos columnas a describir y obtenemos sus estadisticas\n",
    "df_describe_radius = datos.select(\"radius_mean\").describe()\n",
    "df_describe_area = datos.select(\"area_mean\").describe()\n",
    "df_describe_smoothness = datos.select(\"smoothness_mean\").describe()\n",
    "\n",
    "#Mostramos el resumen estadistico de cada columna\n",
    "df_describe_radius.show()\n",
    "df_describe_area.show()\n",
    "df_describe_smoothness.show()"
   ]
  },
  {
   "cell_type": "code",
   "execution_count": 9,
   "id": "80c5b4a5-a8c9-446a-ba9a-6391fb0c6003",
   "metadata": {},
   "outputs": [
    {
     "data": {
      "text/plain": [
       "['radius_mean',\n",
       " 'texture_mean',\n",
       " 'perimeter_mean',\n",
       " 'area_mean',\n",
       " 'smoothness_mean',\n",
       " 'compactness_mean',\n",
       " 'concavity_mean',\n",
       " 'concave points_mean',\n",
       " 'symmetry_mean',\n",
       " 'fractal_dimension_mean',\n",
       " 'radius_se',\n",
       " 'texture_se',\n",
       " 'perimeter_se',\n",
       " 'area_se',\n",
       " 'smoothness_se',\n",
       " 'compactness_se',\n",
       " 'concavity_se',\n",
       " 'concave points_se',\n",
       " 'symmetry_se',\n",
       " 'fractal_dimension_se',\n",
       " 'radius_worst',\n",
       " 'texture_worst',\n",
       " 'perimeter_worst',\n",
       " 'area_worst',\n",
       " 'smoothness_worst',\n",
       " 'compactness_worst',\n",
       " 'concavity_worst',\n",
       " 'concave points_worst',\n",
       " 'symmetry_worst',\n",
       " 'fractal_dimension_worst']"
      ]
     },
     "execution_count": 9,
     "metadata": {},
     "output_type": "execute_result"
    }
   ],
   "source": [
    "columns_to_normalize = datos.columns[1:]\n",
    "\n",
    "columns_to_normalize"
   ]
  },
  {
   "cell_type": "code",
   "execution_count": 10,
   "id": "0f45fc06-0661-4b54-bcc1-fcec2e84ad81",
   "metadata": {},
   "outputs": [],
   "source": [
    "# Definir una función de normalización personalizada\n",
    "def custom_normalize(value, mean, std):\n",
    "    return ((value - mean) / (std))\n",
    "\n",
    "# Iterar a través de las columnas a normalizar\n",
    "for col_name in columns_to_normalize:\n",
    "    # Calcular los valores máximos y mínimos para la columna actual\n",
    "    mean_val = datos.agg({col_name: \"mean\"}).collect()[0][0]\n",
    "    std_val = datos.agg({col_name: \"std\"}).collect()[0][0]\n",
    "\n",
    "    # Crear una función UDF de pandas para aplicar la normalización\n",
    "    normalize_udf = pandas_udf(custom_normalize, DoubleType())\n",
    "\n",
    "    # Aplicar la función de normalización y agregar una nueva columna con el nombre modificado\n",
    "    datos = datos.withColumn(col_name+'_normalized', normalize_udf(datos[col_name], lit(mean_val), lit(std_val)))"
   ]
  },
  {
   "cell_type": "code",
   "execution_count": 11,
   "id": "5b141081-fb6f-4737-8bab-b76a7fa96876",
   "metadata": {},
   "outputs": [
    {
     "name": "stderr",
     "output_type": "stream",
     "text": [
      "/opt/spark-3.4.1-bin-hadoop3/python/lib/pyspark.zip/pyspark/sql/pandas/serializers.py:229: FutureWarning: is_categorical_dtype is deprecated and will be removed in a future version. Use isinstance(dtype, CategoricalDtype) instead\n",
      "                                                                                \r"
     ]
    },
    {
     "name": "stdout",
     "output_type": "stream",
     "text": [
      "+---------+----------------------+-----------------------+-------------------------+--------------------+--------------------------+---------------------------+-------------------------+------------------------------+------------------------+---------------------------------+--------------------+---------------------+-----------------------+------------------+------------------------+-------------------------+-----------------------+----------------------------+----------------------+-------------------------------+-----------------------+------------------------+--------------------------+---------------------+---------------------------+----------------------------+--------------------------+-------------------------------+-------------------------+----------------------------------+\n",
      "|diagnosis|radius_mean_normalized|texture_mean_normalized|perimeter_mean_normalized|area_mean_normalized|smoothness_mean_normalized|compactness_mean_normalized|concavity_mean_normalized|concave points_mean_normalized|symmetry_mean_normalized|fractal_dimension_mean_normalized|radius_se_normalized|texture_se_normalized|perimeter_se_normalized|area_se_normalized|smoothness_se_normalized|compactness_se_normalized|concavity_se_normalized|concave points_se_normalized|symmetry_se_normalized|fractal_dimension_se_normalized|radius_worst_normalized|texture_worst_normalized|perimeter_worst_normalized|area_worst_normalized|smoothness_worst_normalized|compactness_worst_normalized|concavity_worst_normalized|concave points_worst_normalized|symmetry_worst_normalized|fractal_dimension_worst_normalized|\n",
      "+---------+----------------------+-----------------------+-------------------------+--------------------+--------------------------+---------------------------+-------------------------+------------------------------+------------------------+---------------------------------+--------------------+---------------------+-----------------------+------------------+------------------------+-------------------------+-----------------------+----------------------------+----------------------+-------------------------------+-----------------------+------------------------+--------------------------+---------------------+---------------------------+----------------------------+--------------------------+-------------------------------+-------------------------+----------------------------------+\n",
      "|Malignant|    1.0960995294317115|    -2.0715123022444333|       1.2688172627037921|  0.9835095201041414|        1.5670874574786584|         3.2806280641246857|       2.6505417863835716|             2.530248864134297|       2.215565541846305|               2.2537638107280684|   2.487545149236083|  -0.5647681226567425|       2.83054028878839|2.4853906751696266|    -0.21381351331683512|       1.3157038876724811|     0.7233896514447262|          0.6602390007084621|    1.1477467710198115|             0.9062856451675906|       1.88503099661675|     -1.3580984902594553|          2.30157547982572|    1.999478159328895|          1.306536656545081|            2.61436465821211|         2.107671817557451|               2.29405759870782|       2.7482041142121485|                1.9353117420601125|\n",
      "|Malignant|    1.8282119737343592|    -0.3533215225500967|        1.684472552277101|  1.9070302686337912|       -0.8262354467570391|         -0.486643477616135|     -0.02382489180553...|            0.5476622708254771|    0.001391139243576388|              -0.8678888068037983|  0.4988156954477654|  -0.8754732788647063|      0.263095469564322|0.7417492871622333|     -0.6048186703081389|      -0.6923171035200328|   -0.44039255875799166|         0.25993335350933683|   -0.8047422918987176|           -0.09935631723496258|     1.8043398096551975|    -0.36887864740580806|         1.533776430770618|   1.8888270198661705|        -0.3752817482834319|        -0.43006580611969847|      -0.14661995820849663|              1.086128616484048|     -0.24367525902627482|                0.2809427865045239|\n",
      "+---------+----------------------+-----------------------+-------------------------+--------------------+--------------------------+---------------------------+-------------------------+------------------------------+------------------------+---------------------------------+--------------------+---------------------+-----------------------+------------------+------------------------+-------------------------+-----------------------+----------------------------+----------------------+-------------------------------+-----------------------+------------------------+--------------------------+---------------------+---------------------------+----------------------------+--------------------------+-------------------------------+-------------------------+----------------------------------+\n",
      "only showing top 2 rows\n",
      "\n"
     ]
    }
   ],
   "source": [
    "datos = datos.drop(*columns_to_normalize)\n",
    "\n",
    "datos.show(2)"
   ]
  },
  {
   "cell_type": "code",
   "execution_count": 12,
   "id": "60c3d73b-a83d-42d2-8af5-a8964a2469ea",
   "metadata": {},
   "outputs": [
    {
     "name": "stderr",
     "output_type": "stream",
     "text": [
      "/opt/spark-3.4.1-bin-hadoop3/python/lib/pyspark.zip/pyspark/sql/pandas/serializers.py:229: FutureWarning: is_categorical_dtype is deprecated and will be removed in a future version. Use isinstance(dtype, CategoricalDtype) instead\n",
      "[Stage 202:>                                                        (0 + 1) / 1]\r"
     ]
    },
    {
     "name": "stdout",
     "output_type": "stream",
     "text": [
      "+-------+---------+----------------------+-----------------------+-------------------------+--------------------+--------------------------+---------------------------+-------------------------+------------------------------+------------------------+---------------------------------+--------------------+---------------------+-----------------------+--------------------+------------------------+-------------------------+-----------------------+----------------------------+----------------------+-------------------------------+-----------------------+------------------------+--------------------------+---------------------+---------------------------+----------------------------+--------------------------+-------------------------------+-------------------------+----------------------------------+\n",
      "|summary|diagnosis|radius_mean_normalized|texture_mean_normalized|perimeter_mean_normalized|area_mean_normalized|smoothness_mean_normalized|compactness_mean_normalized|concavity_mean_normalized|concave points_mean_normalized|symmetry_mean_normalized|fractal_dimension_mean_normalized|radius_se_normalized|texture_se_normalized|perimeter_se_normalized|  area_se_normalized|smoothness_se_normalized|compactness_se_normalized|concavity_se_normalized|concave points_se_normalized|symmetry_se_normalized|fractal_dimension_se_normalized|radius_worst_normalized|texture_worst_normalized|perimeter_worst_normalized|area_worst_normalized|smoothness_worst_normalized|compactness_worst_normalized|concavity_worst_normalized|concave points_worst_normalized|symmetry_worst_normalized|fractal_dimension_worst_normalized|\n",
      "+-------+---------+----------------------+-----------------------+-------------------------+--------------------+--------------------------+---------------------------+-------------------------+------------------------------+------------------------+---------------------------------+--------------------+---------------------+-----------------------+--------------------+------------------------+-------------------------+-----------------------+----------------------------+----------------------+-------------------------------+-----------------------+------------------------+--------------------------+---------------------+---------------------------+----------------------------+--------------------------+-------------------------------+-------------------------+----------------------------------+\n",
      "|  count|      569|                   569|                    569|                      569|                 569|                       569|                        569|                      569|                           569|                     569|                              569|                 569|                  569|                    569|                 569|                     569|                      569|                    569|                         569|                   569|                            569|                    569|                     569|                       569|                  569|                        569|                         569|                       569|                            569|                      569|                               569|\n",
      "|   mean|     null|  -3.17691586765321...|   -6.57821775961555...|     -7.01255105536522...|-8.51105946118617...|      6.083788033007448...|       -1.08134551888798...|     -3.18042799672935...|          9.412505924062839...|    -1.88854985155481...|             -1.42338786724789...|-9.71859772896278...| -9.37055549343113...|   1.940695212421435...|-7.42327503899193...|    -7.70290392689455...|     -3.80480649915475...|   9.084707210289505...|        -2.99701681164189...|  -3.26432885799277...|           -3.52090939883320...|   -2.32034660963837...|    1.785917635218639...|      -1.26514694053945...| 5.966717063802686...|       -5.06722178374610...|        -2.10961886506980...|      6.899382451800621...|           -1.41655872737761...|     -2.35800443806590...|              2.438978525099201...|\n",
      "| stddev|     null|    0.9999999999999996|                    1.0|       1.0000000000000002|                 1.0|        1.0000000000000002|         1.0000000000000004|       0.9999999999999991|            0.9999999999999996|      0.9999999999999999|               1.0000000000000004|  0.9999999999999997|   0.9999999999999998|      0.999999999999999|  1.0000000000000007|      0.9999999999999999|       1.0000000000000004|     1.0000000000000004|                         1.0|                   1.0|             1.0000000000000007|     0.9999999999999999|      0.9999999999999996|        0.9999999999999997|   0.9999999999999998|                        1.0|          0.9999999999999997|        1.0000000000000004|             0.9999999999999997|       0.9999999999999998|                0.9999999999999989|\n",
      "|    min|   Benign|   -2.0278639974395447|    -2.2272887328797792|      -1.9827594134533468| -1.4531644548625502|        -3.109348888676475|        -1.6087208377064097|       -1.113892735776606|           -1.2607102919261133|     -2.7417046610154876|               -1.818264898620442| -1.0589923263773537|  -1.5528975313437965|    -1.0431310316051567|   -0.73718043172785|     -1.7745036033178987|       -1.296957017108257|    -1.0565710133486705|           -1.91176529931183|   -1.5315424337831365|            -1.0960038118790865|    -1.7253823687142558|     -2.2220388464359133|       -1.6918723648527372|  -1.2213481826829184|        -2.6803365046929266|          -1.442609057210931|        -1.304682669297276|            -1.7435286970376331|      -2.1590599469179725|               -1.6004312800878087|\n",
      "|    max|Malignant|    3.9677964039831806|      4.647799407250335|       3.9726343443836307|   5.245912974856371|         4.766717008595899|          4.564408776479066|        4.239858194106646|            3.9244765347180373|       4.480808217326197|                4.906601992505376|   8.899079090914467|    6.649428552727352|      9.453667542540943|  11.032135148912372|         8.0229399258245|        6.138081329257172|     12.062067052130303|           6.643754990421706|     7.065699990225167|              9.842931825149995|      4.090590106899187|      3.8824888680161975|         4.283568373898193|    5.924959059316027|         3.9518968558065946|           5.108382433167855|         4.696536346775372|             2.6835158096011256|         6.04072614732218|                 6.840836824463898|\n",
      "+-------+---------+----------------------+-----------------------+-------------------------+--------------------+--------------------------+---------------------------+-------------------------+------------------------------+------------------------+---------------------------------+--------------------+---------------------+-----------------------+--------------------+------------------------+-------------------------+-----------------------+----------------------------+----------------------+-------------------------------+-----------------------+------------------------+--------------------------+---------------------+---------------------------+----------------------------+--------------------------+-------------------------------+-------------------------+----------------------------------+\n",
      "\n"
     ]
    },
    {
     "name": "stderr",
     "output_type": "stream",
     "text": [
      "                                                                                \r"
     ]
    }
   ],
   "source": [
    "datos.describe().show()"
   ]
  },
  {
   "cell_type": "code",
   "execution_count": 13,
   "id": "ee42d263-d1b0-4e30-a503-6f6376069ccf",
   "metadata": {},
   "outputs": [],
   "source": [
    "# Dividir los datos en conjuntos de entrenamiento y prueba (por ejemplo, 80% de entrenamiento y 20% de prueba)\n",
    "train_ratio = 0.8\n",
    "test_ratio = 1 - train_ratio\n",
    "train_data, test_data = datos.randomSplit([train_ratio, test_ratio], seed=150)"
   ]
  },
  {
   "cell_type": "code",
   "execution_count": 14,
   "id": "8e6ad450-47eb-48a4-821c-fee631478a5c",
   "metadata": {},
   "outputs": [],
   "source": [
    "#Juntamos nuestras caracteristicas en el vector 'features'\n",
    "vector_assembler = VectorAssembler(inputCols=datos.columns[1:], outputCol=\"features\")\n",
    "train_data = vector_assembler.transform(train_data).select('diagnosis','features')\n",
    "test_data = vector_assembler.transform(test_data).select('diagnosis','features')\n"
   ]
  },
  {
   "cell_type": "code",
   "execution_count": 15,
   "id": "9e0a9bc4-17ec-4cb1-a87a-b3d7309a4f51",
   "metadata": {},
   "outputs": [
    {
     "name": "stderr",
     "output_type": "stream",
     "text": [
      "                                                                                \r"
     ]
    }
   ],
   "source": [
    "train = train_data.toPandas()\n",
    "train =train.drop([0])\n",
    "\n",
    "test = test_data.toPandas()"
   ]
  },
  {
   "cell_type": "code",
   "execution_count": 16,
   "id": "5944cdd9-a96c-45ba-9f34-8980ecc5a457",
   "metadata": {},
   "outputs": [],
   "source": [
    "def predict(train_dataset, test_dataset, k):\n",
    "    #Creamos nuestro arreglo donde se guardarán las predicciones\n",
    "    predictions = []\n",
    "    #Recorremos las filas de los datos de prueba\n",
    "    for row in test_dataset.values:\n",
    "        #Creamos diccionario donded guardaremos las distancias con las respectivas etiquetas \n",
    "        distances = []\n",
    "        #Recorremos filas de entrenamiento\n",
    "        for row_train in train_dataset.values:\n",
    "            #Calculamos distancias y guardamos en diccionario con su respectiva etiqueta\n",
    "            distances.append({'d':distance.euclidean(row[1],row_train[1]), 'label': row_train[0]})\n",
    "        #Ordenamos las distancias de menor a mayor\n",
    "        distances = sorted(distances, key=lambda x: x['d'])\n",
    "        #Creamos diccionario donde se guardaran los votos\n",
    "        votes = {'Malignant':0, 'Benign':0}\n",
    "        #Contamos los votos de los k vecinos más cercanos\n",
    "        for i in distances[:k]:\n",
    "            votes[i['label']] = votes[i['label']] + 1\n",
    "\n",
    "        #Obtenemos la clase con la mayor cantidad de votos\n",
    "        if votes['Malignant'] > votes['Benign']:\n",
    "            predictions.append('Malignant')\n",
    "        elif votes['Malignant'] < votes['Benign']:\n",
    "            predictions.append('Benign')\n",
    "        else:\n",
    "            if random.random() > 0.5:\n",
    "                predictions.append('Benign')\n",
    "            else:\n",
    "                predictions.append('Malignant')\n",
    "\n",
    "    return predictions\n",
    "            "
   ]
  },
  {
   "cell_type": "code",
   "execution_count": 17,
   "id": "ce6880f2-5b45-4985-8139-5443f2f96dd4",
   "metadata": {},
   "outputs": [],
   "source": [
    "def evaluate(predictions, labels):\n",
    "    #Variable donde guardaremos las predicciones correctas\n",
    "    correct = 0\n",
    "    #Recorremos las predicciones junto con las etiquetas reales\n",
    "    for pred, label in zip(predictions, labels):\n",
    "        #Si realizo correctamente la rpedicción agregamos 1\n",
    "        if pred == label:\n",
    "            correct = correct + 1\n",
    "    #Obtenemos el porcentaje de los valores predecidos correctamente\n",
    "    accuracy = (correct * 100)/len(predictions)\n",
    "    return accuracy"
   ]
  },
  {
   "cell_type": "code",
   "execution_count": 18,
   "id": "4111c725-c2c8-4ee9-8729-7af9db01701c",
   "metadata": {},
   "outputs": [],
   "source": [
    "#Realizamos predicción\n",
    "predictions_test = predict(train, test, 3)\n",
    "#Calculamos accuracy\n",
    "accuracy = evaluate(predictions_test, list(test['diagnosis']))"
   ]
  },
  {
   "cell_type": "code",
   "execution_count": 19,
   "id": "d838c1a0-c21a-4508-91da-855db88bec4b",
   "metadata": {},
   "outputs": [
    {
     "name": "stdout",
     "output_type": "stream",
     "text": [
      "99.12280701754386\n"
     ]
    }
   ],
   "source": [
    "print(accuracy)"
   ]
  },
  {
   "cell_type": "code",
   "execution_count": null,
   "id": "5ab67706-9d34-4a53-8458-39ef4c1354e0",
   "metadata": {},
   "outputs": [],
   "source": []
  }
 ],
 "metadata": {
  "kernelspec": {
   "display_name": "Python 3 (ipykernel)",
   "language": "python",
   "name": "python3"
  },
  "language_info": {
   "codemirror_mode": {
    "name": "ipython",
    "version": 3
   },
   "file_extension": ".py",
   "mimetype": "text/x-python",
   "name": "python",
   "nbconvert_exporter": "python",
   "pygments_lexer": "ipython3",
   "version": "3.10.7"
  }
 },
 "nbformat": 4,
 "nbformat_minor": 5
}
